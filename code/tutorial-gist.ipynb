{
 "cells": [
  {
   "cell_type": "code",
   "execution_count": 2,
   "id": "029b50a6-04d6-49d7-a069-285da56c5b37",
   "metadata": {
    "tags": []
   },
   "outputs": [],
   "source": [
    "import numpy as np\n",
    "import pandas as pd\n",
    "import gisttools as gt\n",
    "import matplotlib.pyplot as plt"
   ]
  },
  {
   "cell_type": "code",
   "execution_count": 3,
   "id": "efb0f38d-3286-4e5c-8286-f371de8088d8",
   "metadata": {
    "tags": []
   },
   "outputs": [
    {
     "data": {
      "text/plain": [
       "2100308"
      ]
     },
     "execution_count": 3,
     "metadata": {},
     "output_type": "execute_result"
    }
   ],
   "source": [
    "import os\n",
    "os.getpid()"
   ]
  },
  {
   "cell_type": "code",
   "execution_count": null,
   "id": "945e6fef-f518-4371-a698-137fd07a4049",
   "metadata": {},
   "outputs": [],
   "source": [
    "gist = lo ad_gist_ file (\n",
    "' gist . dat ' , struct = ' solute - centered . pdb ' ,\n",
    "\n",
    "    'gist.dat', struct='solute-centered.pdb',\n"
   ]
  },
  {
   "cell_type": "code",
   "execution_count": 6,
   "id": "3c97fafe-8144-46fc-aae8-3983b411926b",
   "metadata": {
    "tags": []
   },
   "outputs": [
    {
     "name": "stdout",
     "output_type": "stream",
     "text": [
      "/home/vah/GIST_Tutorial/gist-tutorial/code\n"
     ]
    }
   ],
   "source": [
    "!echo $PWD"
   ]
  },
  {
   "cell_type": "code",
   "execution_count": 5,
   "id": "52e33421-b56c-47f9-b451-4c2fa3bfeb21",
   "metadata": {
    "tags": []
   },
   "outputs": [
    {
     "name": "stdout",
     "output_type": "stream",
     "text": [
      "/bin/bash: line 1: cd: gist-tutorial/code/: No such file or directory\n"
     ]
    }
   ],
   "source": [
    "!cd gist-tutorial/code/"
   ]
  },
  {
   "cell_type": "code",
   "execution_count": null,
   "id": "82320351-a698-4836-9892-44141c015a69",
   "metadata": {},
   "outputs": [],
   "source": [
    "compl = gt.gist.load_gist_file('complex/gist/gist.dat', struct='complex/gist/complex-centered.pdb')\n",
    "print(compl.n_frames, compl.rho0)"
   ]
  },
  {
   "cell_type": "code",
   "execution_count": null,
   "id": "e5be8f15-276d-4d7e-8468-a239f9152a34",
   "metadata": {},
   "outputs": [],
   "source": [
    "biotin = gt.gist.load_gist_file('biotin/gist/gist.dat', struct='biotin/gist/biotin-centered.pdb')\n",
    "print(biotin.n_frames, biotin.rho0)"
   ]
  },
  {
   "cell_type": "code",
   "execution_count": null,
   "id": "05437003-34c0-4343-9e37-2b65a900ca20",
   "metadata": {},
   "outputs": [],
   "source": [
    "strept = gt.gist.load_gist_file('streptavidin/gist/gist.dat', struct='streptavidin/gist/streptavidin-centered.pdb')\n",
    "print(strept.n_frames, strept.rho0)"
   ]
  },
  {
   "cell_type": "code",
   "execution_count": null,
   "id": "f34eea38-e42e-4bed-893e-abf84a1117e8",
   "metadata": {},
   "outputs": [],
   "source": [
    "biotin.eww_ref = biotin.detect_reference_value()\n",
    "print(\"Biotin:\", biotin.eww_ref)\n",
    "strept.eww_ref = strept.detect_reference_value()\n",
    "print(\"Streptavidin:\", strept.eww_ref)\n",
    "compl.eww_ref = compl.detect_reference_value()\n",
    "print(\"Complex:\", compl.eww_ref)"
   ]
  },
  {
   "cell_type": "code",
   "execution_count": null,
   "id": "165a06b5-7804-4c6d-a059-f56c62d9671e",
   "metadata": {},
   "outputs": [],
   "source": [
    "biotin.eww_ref = biotin.detect_reference_value()"
   ]
  },
  {
   "cell_type": "code",
   "execution_count": null,
   "id": "2b34b626-59fa-45fb-81db-87198f3dfb65",
   "metadata": {},
   "outputs": [],
   "source": [
    "def reference_entropy(gf):\n",
    "    if 'dTSsix_unref_norm' not in gf.data.columns:\n",
    "        gf['dTSsix_unref_norm'] = gf['dTSsix_norm']\n",
    "        gf['dTSsix_unref_dens'] = gf['dTSsix_dens']\n",
    "    refval = gf.detect_reference_value('dTSsix_unref_dens')\n",
    "    gf['dTSsix_norm'] = gf.get_referenced('dTSsix_unref_norm', refval)\n",
    "    gf['dTSsix_dens'] = gf.get_referenced('dTSsix_unref_dens', refval)\n",
    "\n",
    "reference_entropy(biotin)\n",
    "reference_entropy(strept)\n",
    "reference_entropy(compl)"
   ]
  },
  {
   "cell_type": "code",
   "execution_count": null,
   "id": "c10d96e1-d647-4d97-910e-d1b2df236531",
   "metadata": {},
   "outputs": [],
   "source": [
    "biotin_mask = 'resname BTN and not element H'\n",
    "strept_mask = 'not resname BTN and not resname WAT and not element H'"
   ]
  },
  {
   "cell_type": "code",
   "execution_count": null,
   "id": "0a5eab08-115f-480b-881b-874d16a74c30",
   "metadata": {},
   "outputs": [],
   "source": [
    "import mdtraj as md"
   ]
  },
  {
   "cell_type": "code",
   "execution_count": null,
   "id": "4ebe6f2a-67fd-44e6-b6d9-17a5c749d804",
   "metadata": {},
   "outputs": [],
   "source": [
    "biotin['A06_dens'] = biotin['Eall_dens'] - 0.6 * biotin['dTSsix_dens']\n",
    "strept['A06_dens'] = strept['Eall_dens'] - 0.6 * strept['dTSsix_dens']\n",
    "compl['A06_dens'] = compl['Eall_dens'] - 0.6 * compl['dTSsix_dens']"
   ]
  },
  {
   "cell_type": "code",
   "execution_count": null,
   "id": "4993b2db-dd0c-48d3-853e-cf03980f8fab",
   "metadata": {},
   "outputs": [],
   "source": [
    "col = 'A06_dens'\n",
    "def select(traj, sel):\n",
    "    \"Slice a Trajectory by selection mask.\"\n",
    "    return traj.atom_slice(traj.top.select(sel))\n",
    "# we multiply by 10 to convert nm to Angstrom.\n",
    "compl_x = select(compl.struct, biotin_mask).xyz[0] * 10.\n",
    "biotin_x = select(biotin.struct, biotin_mask).xyz[0] * 10.\n",
    "aligned = compl.struct[:].superpose(strept.struct, \\\n",
    "    atom_indices=strept.struct.top.select(strept_mask))\n",
    "aligned = select(aligned, biotin_mask)\n",
    "strept_x = aligned.xyz[0] * 10.\n",
    "\n",
    "bins, biotin_rdf = biotin.rdf( \\\n",
    "    col, centers=biotin_x, bins=100, rmax=24)\n",
    "bins, strept_rdf = strept.rdf( \\\n",
    "    col, centers=strept_x, bins=100, rmax=24)\n",
    "bins, compl_rdf = compl.rdf( \\\n",
    "    col, centers=compl_x, bins=100, rmax=24)"
   ]
  },
  {
   "cell_type": "code",
   "execution_count": null,
   "id": "df54209f-ab80-4c33-a804-81b9cc928973",
   "metadata": {},
   "outputs": [],
   "source": [
    "fig, (ax1, ax2) = plt.subplots(1, 2, figsize=(8, 4))\n",
    "print(col)\n",
    "\n",
    "cutoff = 12\n",
    "ax1.plot(bins, np.cumsum(biotin_rdf), label='biotin')\n",
    "ax1.plot(bins, np.cumsum(strept_rdf), label='streptavidin')\n",
    "ax1.plot(bins, np.cumsum(compl_rdf), label='complex')\n",
    "ax1.legend()\n",
    "ax1.axvline(cutoff, color='k', linestyle='--')\n",
    "ax1.set_xlabel('distance to biotin [Å]')\n",
    "ax1.set_ylabel('$\\Delta G$ contributions [Å]')\n",
    "ax1.grid()\n",
    "\n",
    "difference = compl_rdf - biotin_rdf - strept_rdf\n",
    "cutoff = 12\n",
    "integral = difference[bins < cutoff].sum() + avg_interaction\n",
    "print(\"Integral = {}\".format(integral))\n",
    "ax2.plot(bins, np.cumsum(difference))\n",
    "ax2.axvline(cutoff, color='k', linestyle='--')\n",
    "ax2.set_xlabel('distance to biotin [Å]')\n",
    "ax2.set_ylabel('$\\Delta \\Delta G$ [kcal/mol]')\n",
    "ax2.grid()\n",
    "\n",
    "plt.tight_layout()\n",
    "\n",
    "plt.savefig('../manuscript/figures/deltaG-difference.png', dpi=300)\n",
    "plt.show()"
   ]
  },
  {
   "cell_type": "code",
   "execution_count": null,
   "id": "7cf91e2c-508a-4972-863b-dcaf1008c712",
   "metadata": {},
   "outputs": [],
   "source": [
    "avg_interaction = -98.666170"
   ]
  },
  {
   "cell_type": "code",
   "execution_count": null,
   "id": "6c532771-d520-4f4c-a6a5-6962fcda83e8",
   "metadata": {},
   "outputs": [],
   "source": [
    "def integrate(rdf):\n",
    "    return rdf[bins < cutoff].sum()# + avg_interaction"
   ]
  },
  {
   "cell_type": "code",
   "execution_count": null,
   "id": "3931f278-4660-4027-bf81-3adb0d8fe6b7",
   "metadata": {},
   "outputs": [],
   "source": [
    "result = pd.Series({\n",
    "    'complex': integrate(compl_rdf),\n",
    "    'strept': integrate(strept_rdf),\n",
    "    'biotin': integrate(biotin_rdf),\n",
    "    'diff': integrate(difference)\n",
    "})\n",
    "result"
   ]
  },
  {
   "cell_type": "code",
   "execution_count": null,
   "id": "5584bbb6-cbc3-43e6-97c1-f69ca9e45497",
   "metadata": {},
   "outputs": [],
   "source": [
    "# only relevant for dTSsix\n",
    "result * 0.6"
   ]
  },
  {
   "cell_type": "code",
   "execution_count": null,
   "id": "1cc1b4ef-b9a4-426d-9426-b99aed779548",
   "metadata": {},
   "outputs": [],
   "source": [
    "print('Integrals + interaction energy')\n",
    "print(f\"Complex: {integrate(compl_rdf)+avg_interaction}, Strept: {integrate(strept_rdf)+avg_interaction}, Biotin: {integrate(biotin_rdf)+avg_interaction}\")"
   ]
  },
  {
   "cell_type": "code",
   "execution_count": null,
   "id": "e87e350c-9b90-45e2-acc9-e040039b586b",
   "metadata": {},
   "outputs": [],
   "source": [
    "energy = pd.read_csv('complex/gist/interaction_energy/energy.dat', delim_whitespace=True, names='frame complex strept biotin diff'.split(), skiprows=1).drop(columns='frame')"
   ]
  },
  {
   "cell_type": "code",
   "execution_count": null,
   "id": "61086dd7-e0e0-40ba-937f-0c284b8e1d64",
   "metadata": {},
   "outputs": [],
   "source": [
    "energy.mean()"
   ]
  },
  {
   "cell_type": "code",
   "execution_count": null,
   "id": "49f09e84-62c2-43de-83f2-a7cca3c06edb",
   "metadata": {},
   "outputs": [],
   "source": [
    "total = energy.mean() + result\n",
    "total"
   ]
  },
  {
   "cell_type": "code",
   "execution_count": null,
   "id": "c42c6857-4100-423b-ad64-3b2bf62c2c20",
   "metadata": {},
   "outputs": [],
   "source": [
    "total['complex'] - total['strept'] - total['biotin'] - total['diff']"
   ]
  },
  {
   "cell_type": "code",
   "execution_count": null,
   "id": "45b976ee-57dc-46ae-917e-88ec0a411ecf",
   "metadata": {},
   "outputs": [],
   "source": []
  }
 ],
 "metadata": {
  "kernelspec": {
   "display_name": "Python 3 (ipykernel)",
   "language": "python",
   "name": "python3"
  },
  "language_info": {
   "codemirror_mode": {
    "name": "ipython",
    "version": 3
   },
   "file_extension": ".py",
   "mimetype": "text/x-python",
   "name": "python",
   "nbconvert_exporter": "python",
   "pygments_lexer": "ipython3",
   "version": "3.9.16"
  }
 },
 "nbformat": 4,
 "nbformat_minor": 5
}
